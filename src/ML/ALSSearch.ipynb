{
 "cells": [
  {
   "cell_type": "code",
   "execution_count": 1,
   "metadata": {},
   "outputs": [],
   "source": [
    "# -*- coding: utf-8 -*-\n",
    "import numpy as np\n",
    "from time import time\n",
    "import sys\n",
    "import argparse\n",
    "from pyspark import SparkContext\n",
    "from operator import add\n",
    "from pyspark.ml.recommendation import ALS\n",
    "from pyspark.sql import Row\n",
    "from pyspark.ml.evaluation import RegressionEvaluator\n",
    "from pyspark.sql import SparkSession\n",
    "import pickle"
   ]
  },
  {
   "cell_type": "code",
   "execution_count": 2,
   "metadata": {},
   "outputs": [],
   "source": [
    "def get_args(data, \n",
    "             folds, \n",
    "             reg = 1.0, \n",
    "             d = 10, \n",
    "             outputfile = 'output', \n",
    "             iter_num = 20, \n",
    "             N = 40, \n",
    "             master = 'local[40]'):\n",
    "    import sys\n",
    "\n",
    "    sys.argv = ['main',\n",
    "                str(data),\n",
    "                str(folds),\n",
    "                '--reg', str(reg),\n",
    "                '--d', str(d),\n",
    "                '--outputfile', str(outputfile),\n",
    "                '--iter', str(iter_num),\n",
    "                '--N', str(N)]\n",
    "    \n",
    "    parser = argparse.ArgumentParser(\n",
    "        description='Alternating least squares.', formatter_class=argparse.ArgumentDefaultsHelpFormatter)\n",
    "    parser.add_argument('data', help='Directory containing folds. The folds should be named fold0, fold1, ..., foldK.')\n",
    "    parser.add_argument('folds', type=int, help='Number of folds')\n",
    "    parser.add_argument('--reg', default=1.0, type=float, help=\"Regularization parameter\")\n",
    "    parser.add_argument('--d', default=10, type=int, help=\"Number of latent features\")\n",
    "    parser.add_argument('--outputfile', help='Output file to save the model')\n",
    "    parser.add_argument('--iter', default=20, type=int, help='Number of iterations to use during training')\n",
    "    parser.add_argument('--N', default=40, type=int, help='Parallelization Level')\n",
    "\n",
    "    verbosity_group = parser.add_mutually_exclusive_group(required=False)\n",
    "    verbosity_group.add_argument('--verbose', dest='verbose', action='store_true')\n",
    "    verbosity_group.add_argument('--silent', dest='verbose', action='store_false')\n",
    "    parser.set_defaults(verbose=False)\n",
    "\n",
    "    return parser.parse_args()\n",
    "    return parser.parse_args()   "
   ]
  },
  {
   "cell_type": "code",
   "execution_count": 27,
   "metadata": {},
   "outputs": [],
   "source": [
    "def readRatings(fileName, sparkContext, sess):\n",
    "    \"\"\" \n",
    "        Read in ratings from a given file. \n",
    "        Assumes the file is a csv in the format (user, item, rating)\n",
    "    \"\"\"\n",
    "    ratingsRDD = sparkContext.textFile(fileName).map(lambda x: tuple(x.split(',')))\\\n",
    "        .map(lambda (user, item, rating): Row(userId=int(user), itemId=int(item), rating=float(rating)))\n",
    "    return sess.createDataFrame(ratingsRDD)\n",
    "\n",
    "def readFolds(directory, numFolds, sc, sess):\n",
    "    \"\"\"\n",
    "        Reads folds of data from a directory.\n",
    "        Assumes files are formatted with \"fold[i]\" where i is the fold number\n",
    "    \"\"\"\n",
    "    folds = {}\n",
    "    if numFolds == 1:\n",
    "        numFolds = 5\n",
    "    for k in range(numFolds):\n",
    "        folds[k] = readRatings(directory+\"/fold\"+str(k), sc, sess).persist()\n",
    "    return folds\n",
    "\n",
    "def createTrainTestData(folds, k, N, numFolds):\n",
    "    \"\"\"\n",
    "        Generates test and train data with the given fold object and value for k.\n",
    "        k represents the fold to use for testing, while all other folds will be used for training.\n",
    "    \"\"\"\n",
    "    if numFolds == 1:\n",
    "        k = -1\n",
    "    train_folds = [folds[j] for j in folds if j is not k]\n",
    "    train = train_folds[0]\n",
    "    for fold in train_folds[1:]:\n",
    "        train = train.union(fold)\n",
    "    train = train.repartition(N).cache()\n",
    "    if numFolds == 1:\n",
    "        test = train\n",
    "    else:\n",
    "        test = folds[k].repartition(N).cache()\n",
    "    return train, test"
   ]
  },
  {
   "cell_type": "code",
   "execution_count": 26,
   "metadata": {},
   "outputs": [],
   "source": [
    "def train(args, sc, sess, folds, numFolds):\n",
    "#     folds = readFolds(args.data, args.folds, sc, sess)\n",
    "    cross_val_rmses = []\n",
    "    model = None\n",
    "    for k in range(numFolds):\n",
    "        train, test = createTrainTestData(folds, k, args.N, numFolds)\n",
    "        print\"Initiating fold %d with %d train samples and %d test samples\" % (k, train.count(), test.count())\n",
    "        train.persist()\n",
    "        test.persist()\n",
    "        start = time()\n",
    "        als = ALS(numUserBlocks=args.N,\n",
    "                  numItemBlocks=args.N,\n",
    "                  maxIter=args.iter,\n",
    "                  rank=args.d,\n",
    "                  regParam=args.reg, \n",
    "                  userCol=\"userId\", \n",
    "                  itemCol=\"itemId\", \n",
    "                  ratingCol=\"rating\", \n",
    "                  coldStartStrategy='drop')\n",
    "        model = als.fit(train)\n",
    "        predictions = model.transform(test)\n",
    "        predictions.show()\n",
    "        evaluator = RegressionEvaluator(metricName=\"rmse\", labelCol=\"rating\", predictionCol=\"prediction\")\n",
    "        testRMSE = evaluator.evaluate(predictions)\n",
    "\n",
    "        now = time()-start\n",
    "        print \"Fold: %d\\tTime: %f\\tTestRMSE: %f\" % (k, now, testRMSE)\n",
    "\n",
    "        cross_val_rmses.append(testRMSE)\n",
    "#         train.unpersist()\n",
    "#         test.unpersist()\n",
    "\n",
    "    print \"%d-fold cross validation error is: %f \" % (args.folds, np.mean(cross_val_rmses))\n",
    "    return np.mean(cross_val_rmses), model"
   ]
  },
  {
   "cell_type": "code",
   "execution_count": 20,
   "metadata": {},
   "outputs": [],
   "source": [
    "SparkContext.setSystemProperty('spark.executor.memory', '100g')\n",
    "SparkContext.setSystemProperty('spark.driver.memory', '100g')\n",
    "try:\n",
    "    sc = SparkContext('local[40]', appName='Parallel MF')\n",
    "except:\n",
    "    sc = SparkContext.getOrCreate()\n",
    "    SparkContext.stop(sc)\n",
    "    sc = SparkContext('local[40]', appName='Parallel MF')\n",
    "spark = SparkSession(sc)\n",
    "sc.setLogLevel(\"ERROR\")   \n",
    "sc.setCheckpointDir('checkpoint/')\n",
    "sess = SparkSession(sc)"
   ]
  },
  {
   "cell_type": "code",
   "execution_count": 8,
   "metadata": {},
   "outputs": [],
   "source": [
    "# SparkContext.stop(sc)\n",
    "SparkContext.setSystemProperty('spark.executor.memory', '100g')\n",
    "SparkContext.setSystemProperty('spark.driver.memory', '100g')\n",
    "sc = SparkContext(\"spark://10.99.248.39:7077\", appName='Parallel MF')\n",
    "sc.setCheckpointDir('checkpoint/')\n",
    "sc.setLogLevel(\"ERROR\")   \n",
    "sess = SparkSession(sc)"
   ]
  },
  {
   "cell_type": "code",
   "execution_count": 25,
   "metadata": {},
   "outputs": [
    {
     "name": "stdout",
     "output_type": "stream",
     "text": [
      "---------------------------------------\n",
      "reg: 0.08, d: 20\n",
      "('num', 1)\n",
      "1518478\n",
      "Initiating fold 0 with 1518478 train samples and 1518478 test samples\n",
      "+------+------+------+----------+\n",
      "|itemId|rating|userId|prediction|\n",
      "+------+------+------+----------+\n",
      "|   148|   4.0| 20735|  4.006267|\n",
      "|   148|   4.0| 26623| 3.9464264|\n",
      "|   148|   4.5| 13483| 4.0471444|\n",
      "|   148|   5.0| 28316|  4.325294|\n",
      "|   148|   4.0|  7661| 4.2432847|\n",
      "|   148|   4.0| 11520| 4.1579204|\n",
      "|   148|   4.0| 12210| 3.8142867|\n",
      "|   148|   3.5| 27941|  3.233887|\n",
      "|   148|   4.5| 29061| 4.1278186|\n",
      "|   148|   4.0| 30333|  4.107945|\n",
      "|   148|   4.0|  1718| 4.0349684|\n",
      "|   148|   4.0|  4799| 3.9945402|\n",
      "|   148|   4.0|  8409| 3.9048324|\n",
      "|   148|   4.5| 10128| 4.2409253|\n",
      "|   148|   4.5|  2971|  4.123874|\n",
      "|   148|   5.0|  7817| 4.6692333|\n",
      "|   148|   4.0| 14437| 3.6649663|\n",
      "|   148|   4.5| 17525|  4.098264|\n",
      "|   148|   4.5| 19358| 4.0919857|\n",
      "|   148|   5.0| 10898| 4.0474453|\n",
      "+------+------+------+----------+\n",
      "only showing top 20 rows\n",
      "\n",
      "Fold: 0\tTime: 209.641332\tTestRMSE: 0.504710\n",
      "1-fold cross validation error is: 0.504710 \n"
     ]
    }
   ],
   "source": [
    "data = '../data/beer'\n",
    "num_folds = 1\n",
    "reg = 0.08\n",
    "d = 20\n",
    "outputfile = 'output'\n",
    "iter_num = 100\n",
    "N = 64\n",
    "folds = readFolds(data, num_folds, sc, sess)\n",
    "results = []\n",
    "# for reg in range(1, 2):\n",
    "#     for d in range(2, 3):\n",
    "\n",
    "print('---------------------------------------')\n",
    "print('reg: {}, d: {}'.format(reg, d))\n",
    "args = get_args(data, num_folds, reg, d, outputfile, iter_num, N)\n",
    "rms, model = train(args, sc, sess, folds, num_folds)\n",
    "results.append((reg, d, rms))\n",
    "with open('../results/als/beer_0.08_20.pickle', 'wb+') as f:\n",
    "    pickle.dump(results, f)\n",
    "with open('../results/als/beer_0.08_20.txt', 'ab+') as f:\n",
    "    f.write('{} {} {}\\n'.format(reg, d, rms))"
   ]
  },
  {
   "cell_type": "code",
   "execution_count": 43,
   "metadata": {},
   "outputs": [],
   "source": [
    "u_str = model.userFactors.rdd.map(lambda (x, y): ','.join(str(t) for t in [x] + list(y)))\n",
    "v_str = model.itemFactors.rdd.map(lambda (x, y): ','.join(str(t) for t in [x] + list(y)))"
   ]
  },
  {
   "cell_type": "code",
   "execution_count": 44,
   "metadata": {},
   "outputs": [],
   "source": [
    "u_str.saveAsTextFile('../results/als/u.csv')\n",
    "v_str.saveAsTextFile('../results/als/v.csv')"
   ]
  },
  {
   "cell_type": "code",
   "execution_count": 3,
   "metadata": {},
   "outputs": [],
   "source": [
    "import pickle\n",
    "import pandas as pd\n",
    "import matplotlib.pyplot as plt\n",
    "\n",
    "# with open('/scratch/liu.che/ParallelProcessingFinal/results/als/{}_results_d_search.pickle'.format('large_data'), 'rb') as f:\n",
    "with open('/scratch/liu.che/ParallelProcessingFinal/results/als/beer.pickle', 'rb') as f:\n",
    "    res = pickle.load(f)\n",
    "    df = pd.DataFrame()\n",
    "#     df = pd.DataFrame({\n",
    "#         'lam': list(range(9)),\n",
    "#         'mu': list(range(9)),\n",
    "#         'd': [4] * 9,\n",
    "#         'rms': [105.232653602, 105.243649287, 105.260565961, 105.283086419, 105.310910376, 105.343753562, \n",
    "#                105.381346878, 105.423435582, 105.469778531],\n",
    "#     })\n",
    "\n",
    "for r in res:\n",
    "    reg, d, rms = r\n",
    "    df = df.append({'reg': reg, 'd': d, 'rms': rms}, ignore_index = True)\n",
    "    "
   ]
  },
  {
   "cell_type": "code",
   "execution_count": 4,
   "metadata": {
    "scrolled": true
   },
   "outputs": [
    {
     "data": {
      "text/html": [
       "<div>\n",
       "<style scoped>\n",
       "    .dataframe tbody tr th:only-of-type {\n",
       "        vertical-align: middle;\n",
       "    }\n",
       "\n",
       "    .dataframe tbody tr th {\n",
       "        vertical-align: top;\n",
       "    }\n",
       "\n",
       "    .dataframe thead th {\n",
       "        text-align: right;\n",
       "    }\n",
       "</style>\n",
       "<table border=\"1\" class=\"dataframe\">\n",
       "  <thead>\n",
       "    <tr style=\"text-align: right;\">\n",
       "      <th></th>\n",
       "      <th>d</th>\n",
       "      <th>reg</th>\n",
       "      <th>rms</th>\n",
       "    </tr>\n",
       "  </thead>\n",
       "  <tbody>\n",
       "    <tr>\n",
       "      <th>3</th>\n",
       "      <td>20.0</td>\n",
       "      <td>0.08</td>\n",
       "      <td>0.610734</td>\n",
       "    </tr>\n",
       "  </tbody>\n",
       "</table>\n",
       "</div>"
      ],
      "text/plain": [
       "      d   reg       rms\n",
       "3  20.0  0.08  0.610734"
      ]
     },
     "execution_count": 4,
     "metadata": {},
     "output_type": "execute_result"
    }
   ],
   "source": [
    "df.loc[df.rms == df.rms.min()]"
   ]
  },
  {
   "cell_type": "code",
   "execution_count": 6,
   "metadata": {
    "collapsed": true
   },
   "outputs": [
    {
     "ename": "TypeError",
     "evalue": "Empty 'DataFrame': no numeric data to plot",
     "output_type": "error",
     "traceback": [
      "\u001b[0;31m---------------------------------------------------------------------------\u001b[0m",
      "\u001b[0;31mTypeError\u001b[0m                                 Traceback (most recent call last)",
      "\u001b[0;32m<ipython-input-6-2b2300c4ca04>\u001b[0m in \u001b[0;36m<module>\u001b[0;34m()\u001b[0m\n\u001b[0;32m----> 1\u001b[0;31m \u001b[0max\u001b[0m \u001b[0;34m=\u001b[0m \u001b[0mdf\u001b[0m\u001b[0;34m.\u001b[0m\u001b[0mloc\u001b[0m\u001b[0;34m[\u001b[0m\u001b[0mdf\u001b[0m\u001b[0;34m.\u001b[0m\u001b[0mreg\u001b[0m \u001b[0;34m==\u001b[0m \u001b[0;36m1\u001b[0m\u001b[0;34m]\u001b[0m\u001b[0;34m.\u001b[0m\u001b[0mplot\u001b[0m\u001b[0;34m(\u001b[0m\u001b[0mx\u001b[0m \u001b[0;34m=\u001b[0m \u001b[0;34m'd'\u001b[0m\u001b[0;34m,\u001b[0m \u001b[0my\u001b[0m \u001b[0;34m=\u001b[0m \u001b[0;34m'rms'\u001b[0m\u001b[0;34m,\u001b[0m \u001b[0mfigsize\u001b[0m\u001b[0;34m=\u001b[0m\u001b[0;34m(\u001b[0m\u001b[0;36m10\u001b[0m\u001b[0;34m,\u001b[0m \u001b[0;36m10\u001b[0m\u001b[0;34m)\u001b[0m\u001b[0;34m,\u001b[0m \u001b[0mfontsize\u001b[0m \u001b[0;34m=\u001b[0m \u001b[0;36m20\u001b[0m\u001b[0;34m)\u001b[0m\u001b[0;34m\u001b[0m\u001b[0m\n\u001b[0m\u001b[1;32m      2\u001b[0m \u001b[0max\u001b[0m\u001b[0;34m.\u001b[0m\u001b[0mlegend\u001b[0m\u001b[0;34m(\u001b[0m\u001b[0;34m)\u001b[0m\u001b[0;34m.\u001b[0m\u001b[0mremove\u001b[0m\u001b[0;34m(\u001b[0m\u001b[0;34m)\u001b[0m\u001b[0;34m\u001b[0m\u001b[0m\n\u001b[1;32m      3\u001b[0m \u001b[0mplt\u001b[0m\u001b[0;34m.\u001b[0m\u001b[0mtitle\u001b[0m\u001b[0;34m(\u001b[0m\u001b[0;34m'small data | reg = 1, max iter = 30'\u001b[0m\u001b[0;34m,\u001b[0m \u001b[0mfontsize\u001b[0m \u001b[0;34m=\u001b[0m \u001b[0;36m20\u001b[0m\u001b[0;34m)\u001b[0m\u001b[0;34m\u001b[0m\u001b[0m\n\u001b[1;32m      4\u001b[0m \u001b[0mplt\u001b[0m\u001b[0;34m.\u001b[0m\u001b[0mxlabel\u001b[0m\u001b[0;34m(\u001b[0m\u001b[0;34m'd'\u001b[0m\u001b[0;34m,\u001b[0m \u001b[0mfontsize\u001b[0m \u001b[0;34m=\u001b[0m \u001b[0;36m20\u001b[0m\u001b[0;34m)\u001b[0m\u001b[0;34m\u001b[0m\u001b[0m\n\u001b[1;32m      5\u001b[0m \u001b[0mplt\u001b[0m\u001b[0;34m.\u001b[0m\u001b[0mylabel\u001b[0m\u001b[0;34m(\u001b[0m\u001b[0;34m'rms'\u001b[0m\u001b[0;34m,\u001b[0m \u001b[0mfontsize\u001b[0m \u001b[0;34m=\u001b[0m \u001b[0;36m20\u001b[0m\u001b[0;34m)\u001b[0m\u001b[0;34m\u001b[0m\u001b[0m\n",
      "\u001b[0;32m/shared/centos7/anaconda2/2.7/lib/python2.7/site-packages/pandas/plotting/_core.pyc\u001b[0m in \u001b[0;36m__call__\u001b[0;34m(self, x, y, kind, ax, subplots, sharex, sharey, layout, figsize, use_index, title, grid, legend, style, logx, logy, loglog, xticks, yticks, xlim, ylim, rot, fontsize, colormap, table, yerr, xerr, secondary_y, sort_columns, **kwds)\u001b[0m\n\u001b[1;32m   2939\u001b[0m                           \u001b[0mfontsize\u001b[0m\u001b[0;34m=\u001b[0m\u001b[0mfontsize\u001b[0m\u001b[0;34m,\u001b[0m \u001b[0mcolormap\u001b[0m\u001b[0;34m=\u001b[0m\u001b[0mcolormap\u001b[0m\u001b[0;34m,\u001b[0m \u001b[0mtable\u001b[0m\u001b[0;34m=\u001b[0m\u001b[0mtable\u001b[0m\u001b[0;34m,\u001b[0m\u001b[0;34m\u001b[0m\u001b[0m\n\u001b[1;32m   2940\u001b[0m                           \u001b[0myerr\u001b[0m\u001b[0;34m=\u001b[0m\u001b[0myerr\u001b[0m\u001b[0;34m,\u001b[0m \u001b[0mxerr\u001b[0m\u001b[0;34m=\u001b[0m\u001b[0mxerr\u001b[0m\u001b[0;34m,\u001b[0m \u001b[0msecondary_y\u001b[0m\u001b[0;34m=\u001b[0m\u001b[0msecondary_y\u001b[0m\u001b[0;34m,\u001b[0m\u001b[0;34m\u001b[0m\u001b[0m\n\u001b[0;32m-> 2941\u001b[0;31m                           sort_columns=sort_columns, **kwds)\n\u001b[0m\u001b[1;32m   2942\u001b[0m     \u001b[0m__call__\u001b[0m\u001b[0;34m.\u001b[0m\u001b[0m__doc__\u001b[0m \u001b[0;34m=\u001b[0m \u001b[0mplot_frame\u001b[0m\u001b[0;34m.\u001b[0m\u001b[0m__doc__\u001b[0m\u001b[0;34m\u001b[0m\u001b[0m\n\u001b[1;32m   2943\u001b[0m \u001b[0;34m\u001b[0m\u001b[0m\n",
      "\u001b[0;32m/shared/centos7/anaconda2/2.7/lib/python2.7/site-packages/pandas/plotting/_core.pyc\u001b[0m in \u001b[0;36mplot_frame\u001b[0;34m(data, x, y, kind, ax, subplots, sharex, sharey, layout, figsize, use_index, title, grid, legend, style, logx, logy, loglog, xticks, yticks, xlim, ylim, rot, fontsize, colormap, table, yerr, xerr, secondary_y, sort_columns, **kwds)\u001b[0m\n\u001b[1;32m   1975\u001b[0m                  \u001b[0myerr\u001b[0m\u001b[0;34m=\u001b[0m\u001b[0myerr\u001b[0m\u001b[0;34m,\u001b[0m \u001b[0mxerr\u001b[0m\u001b[0;34m=\u001b[0m\u001b[0mxerr\u001b[0m\u001b[0;34m,\u001b[0m\u001b[0;34m\u001b[0m\u001b[0m\n\u001b[1;32m   1976\u001b[0m                  \u001b[0msecondary_y\u001b[0m\u001b[0;34m=\u001b[0m\u001b[0msecondary_y\u001b[0m\u001b[0;34m,\u001b[0m \u001b[0msort_columns\u001b[0m\u001b[0;34m=\u001b[0m\u001b[0msort_columns\u001b[0m\u001b[0;34m,\u001b[0m\u001b[0;34m\u001b[0m\u001b[0m\n\u001b[0;32m-> 1977\u001b[0;31m                  **kwds)\n\u001b[0m\u001b[1;32m   1978\u001b[0m \u001b[0;34m\u001b[0m\u001b[0m\n\u001b[1;32m   1979\u001b[0m \u001b[0;34m\u001b[0m\u001b[0m\n",
      "\u001b[0;32m/shared/centos7/anaconda2/2.7/lib/python2.7/site-packages/pandas/plotting/_core.pyc\u001b[0m in \u001b[0;36m_plot\u001b[0;34m(data, x, y, subplots, ax, kind, **kwds)\u001b[0m\n\u001b[1;32m   1802\u001b[0m         \u001b[0mplot_obj\u001b[0m \u001b[0;34m=\u001b[0m \u001b[0mklass\u001b[0m\u001b[0;34m(\u001b[0m\u001b[0mdata\u001b[0m\u001b[0;34m,\u001b[0m \u001b[0msubplots\u001b[0m\u001b[0;34m=\u001b[0m\u001b[0msubplots\u001b[0m\u001b[0;34m,\u001b[0m \u001b[0max\u001b[0m\u001b[0;34m=\u001b[0m\u001b[0max\u001b[0m\u001b[0;34m,\u001b[0m \u001b[0mkind\u001b[0m\u001b[0;34m=\u001b[0m\u001b[0mkind\u001b[0m\u001b[0;34m,\u001b[0m \u001b[0;34m**\u001b[0m\u001b[0mkwds\u001b[0m\u001b[0;34m)\u001b[0m\u001b[0;34m\u001b[0m\u001b[0m\n\u001b[1;32m   1803\u001b[0m \u001b[0;34m\u001b[0m\u001b[0m\n\u001b[0;32m-> 1804\u001b[0;31m     \u001b[0mplot_obj\u001b[0m\u001b[0;34m.\u001b[0m\u001b[0mgenerate\u001b[0m\u001b[0;34m(\u001b[0m\u001b[0;34m)\u001b[0m\u001b[0;34m\u001b[0m\u001b[0m\n\u001b[0m\u001b[1;32m   1805\u001b[0m     \u001b[0mplot_obj\u001b[0m\u001b[0;34m.\u001b[0m\u001b[0mdraw\u001b[0m\u001b[0;34m(\u001b[0m\u001b[0;34m)\u001b[0m\u001b[0;34m\u001b[0m\u001b[0m\n\u001b[1;32m   1806\u001b[0m     \u001b[0;32mreturn\u001b[0m \u001b[0mplot_obj\u001b[0m\u001b[0;34m.\u001b[0m\u001b[0mresult\u001b[0m\u001b[0;34m\u001b[0m\u001b[0m\n",
      "\u001b[0;32m/shared/centos7/anaconda2/2.7/lib/python2.7/site-packages/pandas/plotting/_core.pyc\u001b[0m in \u001b[0;36mgenerate\u001b[0;34m(self)\u001b[0m\n\u001b[1;32m    256\u001b[0m     \u001b[0;32mdef\u001b[0m \u001b[0mgenerate\u001b[0m\u001b[0;34m(\u001b[0m\u001b[0mself\u001b[0m\u001b[0;34m)\u001b[0m\u001b[0;34m:\u001b[0m\u001b[0;34m\u001b[0m\u001b[0m\n\u001b[1;32m    257\u001b[0m         \u001b[0mself\u001b[0m\u001b[0;34m.\u001b[0m\u001b[0m_args_adjust\u001b[0m\u001b[0;34m(\u001b[0m\u001b[0;34m)\u001b[0m\u001b[0;34m\u001b[0m\u001b[0m\n\u001b[0;32m--> 258\u001b[0;31m         \u001b[0mself\u001b[0m\u001b[0;34m.\u001b[0m\u001b[0m_compute_plot_data\u001b[0m\u001b[0;34m(\u001b[0m\u001b[0;34m)\u001b[0m\u001b[0;34m\u001b[0m\u001b[0m\n\u001b[0m\u001b[1;32m    259\u001b[0m         \u001b[0mself\u001b[0m\u001b[0;34m.\u001b[0m\u001b[0m_setup_subplots\u001b[0m\u001b[0;34m(\u001b[0m\u001b[0;34m)\u001b[0m\u001b[0;34m\u001b[0m\u001b[0m\n\u001b[1;32m    260\u001b[0m         \u001b[0mself\u001b[0m\u001b[0;34m.\u001b[0m\u001b[0m_make_plot\u001b[0m\u001b[0;34m(\u001b[0m\u001b[0;34m)\u001b[0m\u001b[0;34m\u001b[0m\u001b[0m\n",
      "\u001b[0;32m/shared/centos7/anaconda2/2.7/lib/python2.7/site-packages/pandas/plotting/_core.pyc\u001b[0m in \u001b[0;36m_compute_plot_data\u001b[0;34m(self)\u001b[0m\n\u001b[1;32m    371\u001b[0m         \u001b[0;32mif\u001b[0m \u001b[0mis_empty\u001b[0m\u001b[0;34m:\u001b[0m\u001b[0;34m\u001b[0m\u001b[0m\n\u001b[1;32m    372\u001b[0m             raise TypeError('Empty {0!r}: no numeric data to '\n\u001b[0;32m--> 373\u001b[0;31m                             'plot'.format(numeric_data.__class__.__name__))\n\u001b[0m\u001b[1;32m    374\u001b[0m \u001b[0;34m\u001b[0m\u001b[0m\n\u001b[1;32m    375\u001b[0m         \u001b[0mself\u001b[0m\u001b[0;34m.\u001b[0m\u001b[0mdata\u001b[0m \u001b[0;34m=\u001b[0m \u001b[0mnumeric_data\u001b[0m\u001b[0;34m\u001b[0m\u001b[0m\n",
      "\u001b[0;31mTypeError\u001b[0m: Empty 'DataFrame': no numeric data to plot"
     ]
    }
   ],
   "source": [
    "ax = df.loc[df.reg == 1].plot(x = 'd', y = 'rms', figsize=(10, 10), fontsize = 20)\n",
    "ax.legend().remove()\n",
    "plt.title('small data | reg = 1, max iter = 30', fontsize = 20)\n",
    "plt.xlabel('d', fontsize = 20)\n",
    "plt.ylabel('rms', fontsize = 20)"
   ]
  },
  {
   "cell_type": "code",
   "execution_count": 7,
   "metadata": {
    "scrolled": true
   },
   "outputs": [
    {
     "data": {
      "text/plain": [
       "Text(0,0.5,'rms')"
      ]
     },
     "execution_count": 7,
     "metadata": {},
     "output_type": "execute_result"
    },
    {
     "data": {
      "image/png": "[encoded data removed]",
      "text/plain": [
       "<Figure size 720x720 with 1 Axes>"
      ]
     },
     "metadata": {},
     "output_type": "display_data"
    }
   ],
   "source": [
    "ax = df.plot(x = 'reg', y = 'rms', figsize=(10, 10), fontsize = 20)\n",
    "ax.legend().remove()\n",
    "plt.title('small data | d = 20, max iter = 30', fontsize = 20)\n",
    "plt.xlabel('reg', fontsize = 20)\n",
    "plt.ylabel('rms', fontsize = 20)"
   ]
  },
  {
   "cell_type": "code",
   "execution_count": null,
   "metadata": {},
   "outputs": [],
   "source": []
  }
 ],
 "metadata": {
  "kernelspec": {
   "display_name": "Python 3",
   "language": "python",
   "name": "python3"
  },
  "language_info": {
   "codemirror_mode": {
    "name": "ipython",
    "version": 3
   },
   "file_extension": ".py",
   "mimetype": "text/x-python",
   "name": "python",
   "nbconvert_exporter": "python",
   "pygments_lexer": "ipython3",
   "version": "3.7.2"
  }
 },
 "nbformat": 4,
 "nbformat_minor": 2
}
